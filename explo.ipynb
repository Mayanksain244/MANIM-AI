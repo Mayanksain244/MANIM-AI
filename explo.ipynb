{
 "cells": [
  {
   "cell_type": "code",
   "execution_count": 1,
   "id": "1d57598c",
   "metadata": {},
   "outputs": [],
   "source": [
    "import pandas as pd"
   ]
  },
  {
   "cell_type": "code",
   "execution_count": 2,
   "id": "55c64db7",
   "metadata": {},
   "outputs": [
    {
     "data": {
      "text/html": [
       "<div>\n",
       "<style scoped>\n",
       "    .dataframe tbody tr th:only-of-type {\n",
       "        vertical-align: middle;\n",
       "    }\n",
       "\n",
       "    .dataframe tbody tr th {\n",
       "        vertical-align: top;\n",
       "    }\n",
       "\n",
       "    .dataframe thead th {\n",
       "        text-align: right;\n",
       "    }\n",
       "</style>\n",
       "<table border=\"1\" class=\"dataframe\">\n",
       "  <thead>\n",
       "    <tr style=\"text-align: right;\">\n",
       "      <th></th>\n",
       "      <th>Generated Description</th>\n",
       "      <th>Reviewed Description</th>\n",
       "      <th>Code</th>\n",
       "      <th>Type</th>\n",
       "    </tr>\n",
       "  </thead>\n",
       "  <tbody>\n",
       "    <tr>\n",
       "      <th>0</th>\n",
       "      <td>Display 3D axes and a circle. Set the camera o...</td>\n",
       "      <td>Display 3D axes and a circle. Set the camera o...</td>\n",
       "      <td>from manim import *\\n\\nclass ThreeDCameraIllus...</td>\n",
       "      <td>Intermediate</td>\n",
       "    </tr>\n",
       "    <tr>\n",
       "      <th>1</th>\n",
       "      <td>None</td>\n",
       "      <td>Display the Manim logo banner alongside a titl...</td>\n",
       "      <td>from manim import *\\n\\nimport manim\\n\\nclass T...</td>\n",
       "      <td>Basic</td>\n",
       "    </tr>\n",
       "    <tr>\n",
       "      <th>2</th>\n",
       "      <td>None</td>\n",
       "      <td>Display a 2×2 decimal matrix:  \\n\\[\\n\\left\\{\\n...</td>\n",
       "      <td>from manim import *\\n\\nclass DecimalMatrixExam...</td>\n",
       "      <td>Basic</td>\n",
       "    </tr>\n",
       "    <tr>\n",
       "      <th>3</th>\n",
       "      <td>None</td>\n",
       "      <td>Display a square centered on the screen. Anima...</td>\n",
       "      <td>from manim import *\\n\\nclass RunTime(Scene):\\n...</td>\n",
       "      <td>Basic</td>\n",
       "    </tr>\n",
       "    <tr>\n",
       "      <th>4</th>\n",
       "      <td>None</td>\n",
       "      <td>Display a set of coordinate axes with a cosine...</td>\n",
       "      <td>from manim import *\\n\\nclass InputToGraphPoint...</td>\n",
       "      <td>Intermediate</td>\n",
       "    </tr>\n",
       "    <tr>\n",
       "      <th>...</th>\n",
       "      <td>...</td>\n",
       "      <td>...</td>\n",
       "      <td>...</td>\n",
       "      <td>...</td>\n",
       "    </tr>\n",
       "    <tr>\n",
       "      <th>312</th>\n",
       "      <td>None</td>\n",
       "      <td>Display a 3D cylinder with a radius of 2 units...</td>\n",
       "      <td>from manim import *\\n\\nclass ExampleCylinder(T...</td>\n",
       "      <td>Basic</td>\n",
       "    </tr>\n",
       "    <tr>\n",
       "      <th>313</th>\n",
       "      <td>None</td>\n",
       "      <td>Display two pairs of dots and squares: one pai...</td>\n",
       "      <td>from manim import *\\n\\nclass ClockwiseExample(...</td>\n",
       "      <td>Intermediate</td>\n",
       "    </tr>\n",
       "    <tr>\n",
       "      <th>314</th>\n",
       "      <td>None</td>\n",
       "      <td>Display a set of coordinate axes with labeled ...</td>\n",
       "      <td>from manim import *\\n\\nclass GetHorizontalLine...</td>\n",
       "      <td>Basic</td>\n",
       "    </tr>\n",
       "    <tr>\n",
       "      <th>315</th>\n",
       "      <td>None</td>\n",
       "      <td>Display the text “Changing default values is e...</td>\n",
       "      <td>from manim import *\\n\\nconfig.background_color...</td>\n",
       "      <td>Basic</td>\n",
       "    </tr>\n",
       "    <tr>\n",
       "      <th>316</th>\n",
       "      <td>None</td>\n",
       "      <td>Display two polygons:\\n\\n1. An isosceles trian...</td>\n",
       "      <td>from manim import *\\n\\nclass PolygonExample(Sc...</td>\n",
       "      <td>Intermediate</td>\n",
       "    </tr>\n",
       "  </tbody>\n",
       "</table>\n",
       "<p>317 rows × 4 columns</p>\n",
       "</div>"
      ],
      "text/plain": [
       "                                 Generated Description  \\\n",
       "0    Display 3D axes and a circle. Set the camera o...   \n",
       "1                                                 None   \n",
       "2                                                 None   \n",
       "3                                                 None   \n",
       "4                                                 None   \n",
       "..                                                 ...   \n",
       "312                                               None   \n",
       "313                                               None   \n",
       "314                                               None   \n",
       "315                                               None   \n",
       "316                                               None   \n",
       "\n",
       "                                  Reviewed Description  \\\n",
       "0    Display 3D axes and a circle. Set the camera o...   \n",
       "1    Display the Manim logo banner alongside a titl...   \n",
       "2    Display a 2×2 decimal matrix:  \\n\\[\\n\\left\\{\\n...   \n",
       "3    Display a square centered on the screen. Anima...   \n",
       "4    Display a set of coordinate axes with a cosine...   \n",
       "..                                                 ...   \n",
       "312  Display a 3D cylinder with a radius of 2 units...   \n",
       "313  Display two pairs of dots and squares: one pai...   \n",
       "314  Display a set of coordinate axes with labeled ...   \n",
       "315  Display the text “Changing default values is e...   \n",
       "316  Display two polygons:\\n\\n1. An isosceles trian...   \n",
       "\n",
       "                                                  Code          Type  \n",
       "0    from manim import *\\n\\nclass ThreeDCameraIllus...  Intermediate  \n",
       "1    from manim import *\\n\\nimport manim\\n\\nclass T...         Basic  \n",
       "2    from manim import *\\n\\nclass DecimalMatrixExam...         Basic  \n",
       "3    from manim import *\\n\\nclass RunTime(Scene):\\n...         Basic  \n",
       "4    from manim import *\\n\\nclass InputToGraphPoint...  Intermediate  \n",
       "..                                                 ...           ...  \n",
       "312  from manim import *\\n\\nclass ExampleCylinder(T...         Basic  \n",
       "313  from manim import *\\n\\nclass ClockwiseExample(...  Intermediate  \n",
       "314  from manim import *\\n\\nclass GetHorizontalLine...         Basic  \n",
       "315  from manim import *\\n\\nconfig.background_color...         Basic  \n",
       "316  from manim import *\\n\\nclass PolygonExample(Sc...  Intermediate  \n",
       "\n",
       "[317 rows x 4 columns]"
      ]
     },
     "execution_count": 2,
     "metadata": {},
     "output_type": "execute_result"
    }
   ],
   "source": [
    "train_data = pd.read_parquet(\"data/manim_sft_dataset_train.parquet\")\n",
    "all_data = pd.read_parquet(\"data/manim_sft_dataset_all.parquet\")\n",
    "\n",
    "train_data"
   ]
  },
  {
   "cell_type": "code",
   "execution_count": 4,
   "id": "103cffa4",
   "metadata": {},
   "outputs": [],
   "source": [
    "df = pd.read_csv(\"data/bespoke-manim-train.csv\")"
   ]
  },
  {
   "cell_type": "code",
   "execution_count": 10,
   "id": "99acfdf8",
   "metadata": {},
   "outputs": [
    {
     "data": {
      "text/plain": [
       "Index(['Generated Description', 'Reviewed Description', 'Code', 'Type'], dtype='object')"
      ]
     },
     "execution_count": 10,
     "metadata": {},
     "output_type": "execute_result"
    }
   ],
   "source": [
    "train_data.columns"
   ]
  },
  {
   "cell_type": "code",
   "execution_count": 11,
   "id": "691e2378",
   "metadata": {},
   "outputs": [
    {
     "data": {
      "text/html": [
       "<div>\n",
       "<style scoped>\n",
       "    .dataframe tbody tr th:only-of-type {\n",
       "        vertical-align: middle;\n",
       "    }\n",
       "\n",
       "    .dataframe tbody tr th {\n",
       "        vertical-align: top;\n",
       "    }\n",
       "\n",
       "    .dataframe thead th {\n",
       "        text-align: right;\n",
       "    }\n",
       "</style>\n",
       "<table border=\"1\" class=\"dataframe\">\n",
       "  <thead>\n",
       "    <tr style=\"text-align: right;\">\n",
       "      <th></th>\n",
       "      <th>Generated Description</th>\n",
       "      <th>Reviewed Description</th>\n",
       "      <th>Code</th>\n",
       "      <th>Type</th>\n",
       "    </tr>\n",
       "  </thead>\n",
       "  <tbody>\n",
       "    <tr>\n",
       "      <th>count</th>\n",
       "      <td>20</td>\n",
       "      <td>317</td>\n",
       "      <td>317</td>\n",
       "      <td>317</td>\n",
       "    </tr>\n",
       "    <tr>\n",
       "      <th>unique</th>\n",
       "      <td>20</td>\n",
       "      <td>315</td>\n",
       "      <td>317</td>\n",
       "      <td>3</td>\n",
       "    </tr>\n",
       "    <tr>\n",
       "      <th>top</th>\n",
       "      <td>Display 3D axes and a circle. Set the camera o...</td>\n",
       "      <td>Display a large circle with two tangent lines:...</td>\n",
       "      <td>from manim import *\\n\\nclass PolygonExample(Sc...</td>\n",
       "      <td>Basic</td>\n",
       "    </tr>\n",
       "    <tr>\n",
       "      <th>freq</th>\n",
       "      <td>1</td>\n",
       "      <td>2</td>\n",
       "      <td>1</td>\n",
       "      <td>199</td>\n",
       "    </tr>\n",
       "  </tbody>\n",
       "</table>\n",
       "</div>"
      ],
      "text/plain": [
       "                                    Generated Description  \\\n",
       "count                                                  20   \n",
       "unique                                                 20   \n",
       "top     Display 3D axes and a circle. Set the camera o...   \n",
       "freq                                                    1   \n",
       "\n",
       "                                     Reviewed Description  \\\n",
       "count                                                 317   \n",
       "unique                                                315   \n",
       "top     Display a large circle with two tangent lines:...   \n",
       "freq                                                    2   \n",
       "\n",
       "                                                     Code   Type  \n",
       "count                                                 317    317  \n",
       "unique                                                317      3  \n",
       "top     from manim import *\\n\\nclass PolygonExample(Sc...  Basic  \n",
       "freq                                                    1    199  "
      ]
     },
     "execution_count": 11,
     "metadata": {},
     "output_type": "execute_result"
    }
   ],
   "source": [
    "train_data.describe()"
   ]
  },
  {
   "cell_type": "code",
   "execution_count": 17,
   "id": "f6024550",
   "metadata": {},
   "outputs": [
    {
     "name": "stdout",
     "output_type": "stream",
     "text": [
      "from manim import *\n",
      "\n",
      "class InputToGraphPointExample(Scene):\n",
      "    def construct(self):\n",
      "        ax = Axes()\n",
      "        curve = ax.plot(lambda x : np.cos(x))\n",
      "\n",
      "        # move a square to PI on the cosine curve.\n",
      "        position = ax.input_to_graph_point(x=PI, graph=curve)\n",
      "        sq = Square(side_length=1, color=YELLOW).move_to(position)\n",
      "\n",
      "        self.add(ax, curve, sq)\n"
     ]
    }
   ],
   "source": [
    "print(train_data[\"Code\"][4])"
   ]
  },
  {
   "cell_type": "code",
   "execution_count": 8,
   "id": "684db5dd",
   "metadata": {},
   "outputs": [
    {
     "data": {
      "text/plain": [
       "Index(['subject', 'topic', 'question', 'title', 'narration', 'visual_elements',\n",
       "       'equations', 'key_timestamps', 'visual_style', 'concept_id',\n",
       "       'python_code', 'scene_class_name', 'generation_time', 'filename',\n",
       "       'message', 'error', 'stdout', 'stderr', 'video'],\n",
       "      dtype='object')"
      ]
     },
     "execution_count": 8,
     "metadata": {},
     "output_type": "execute_result"
    }
   ],
   "source": [
    "df.columns"
   ]
  },
  {
   "cell_type": "code",
   "execution_count": 13,
   "id": "41c39e4d",
   "metadata": {},
   "outputs": [
    {
     "name": "stdout",
     "output_type": "stream",
     "text": [
      "0      b'\\x00\\x00\\x00 ftypisom\\x00\\x00\\x02\\x00isomiso...\n",
      "1      b'\\x00\\x00\\x00 ftypisom\\x00\\x00\\x02\\x00isomiso...\n",
      "2                                                    NaN\n",
      "3                                                    NaN\n",
      "4      b'\\x00\\x00\\x00 ftypisom\\x00\\x00\\x02\\x00isomiso...\n",
      "                             ...                        \n",
      "995                                                  NaN\n",
      "996                                                  NaN\n",
      "997                                                  NaN\n",
      "998                                                  NaN\n",
      "999                                                  NaN\n",
      "Name: video, Length: 1000, dtype: object\n"
     ]
    }
   ],
   "source": [
    "print(df[\"video\"])"
   ]
  },
  {
   "cell_type": "code",
   "execution_count": null,
   "id": "3ab1aa63",
   "metadata": {},
   "outputs": [],
   "source": []
  }
 ],
 "metadata": {
  "kernelspec": {
   "display_name": "Python 3",
   "language": "python",
   "name": "python3"
  },
  "language_info": {
   "codemirror_mode": {
    "name": "ipython",
    "version": 3
   },
   "file_extension": ".py",
   "mimetype": "text/x-python",
   "name": "python",
   "nbconvert_exporter": "python",
   "pygments_lexer": "ipython3",
   "version": "3.10.11"
  }
 },
 "nbformat": 4,
 "nbformat_minor": 5
}
